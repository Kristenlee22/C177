{
 "cells": [
  {
   "cell_type": "code",
   "execution_count": 1,
   "metadata": {
    "collapsed": false
   },
   "outputs": [
    {
     "name": "stdout",
     "output_type": "stream",
     "text": [
      "20\n"
     ]
    }
   ],
   "source": [
    "a = 3\n",
    "b = 17\n",
    "c = a + b\n",
    "print(c)"
   ]
  },
  {
   "cell_type": "code",
   "execution_count": 2,
   "metadata": {
    "collapsed": false
   },
   "outputs": [
    {
     "name": "stdout",
     "output_type": "stream",
     "text": [
      "monkey\n",
      "['loco moco', 'pizza', 'green curry']\n",
      "3\n"
     ]
    }
   ],
   "source": [
    "favorite_animals= \"monkey\"\n",
    "print(favorite_animals)\n",
    "\n",
    "favorite_dinners= [\"loco moco\", \"pizza\", \"green curry\"]\n",
    "print(favorite_dinners)\n",
    "\n",
    "num_fav_dinners= len(favorite_dinners)\n",
    "print(num_fav_dinners)"
   ]
  },
  {
   "cell_type": "code",
   "execution_count": 3,
   "metadata": {
    "collapsed": false,
    "scrolled": true
   },
   "outputs": [
    {
     "name": "stdout",
     "output_type": "stream",
     "text": [
      "What a pleasant temperature!\n",
      "error\n"
     ]
    }
   ],
   "source": [
    "def hw3_function(temperature):\n",
    "\n",
    "    if not isinstance(temperature , int):\n",
    "        print(\"error\")\n",
    "        return \n",
    "    \n",
    "    if temperature < 5:\n",
    "        print(\"Brr! It's cold!\")\n",
    "    elif temperature > 25:\n",
    "        print(\"It's pretty warm!\")\n",
    "    elif 5< temperature <25:\n",
    "        print(\"What a pleasant temperature!\")\n",
    "    \n",
    "        \n",
    "\n",
    "hw3_function(17)\n",
    "hw3_function(\"duck\")\n"
   ]
  },
  {
   "cell_type": "code",
   "execution_count": 5,
   "metadata": {
    "collapsed": false
   },
   "outputs": [
    {
     "name": "stdout",
     "output_type": "stream",
     "text": [
      "restriction site found\n"
     ]
    }
   ],
   "source": [
    "#dna = \"ATAATTAACGGAGCTTATTA\" \n",
    "#if re.search(r\"G(A|T)(A|T)G(A|T|G|C)\", dna):\n",
    " #       print(\"pattern found\")\n",
    "    \n",
    "import re\n",
    "dna= \"ATAATTAACGGAGCTTATTA\" \n",
    "exp= re.compile(\"GA|TA|TGA|T|G|C\")\n",
    "if re.search(exp, dna):\n",
    "    print(\"restriction site found\")\n",
    "else:\n",
    "    print(\"restriction site not found\")"
   ]
  },
  {
   "cell_type": "code",
   "execution_count": 1,
   "metadata": {
    "collapsed": false
   },
   "outputs": [
    {
     "name": "stdout",
     "output_type": "stream",
     "text": [
      "Enter either rock, paper, or scissors: money\n",
      "Invalid input, please enter either rock, paper, or scissors: paper\n",
      "You picked paper; Computer picked scissors; +1 for Computer!\n"
     ]
    }
   ],
   "source": [
    "\n",
    "import random \n",
    "\n",
    "\n",
    "user_choice = input(\"Enter either rock, paper, or scissors: \") \n",
    "user_choice.lower() \n",
    "validInput = [\"rock\", \"paper\", \"scissors\"]\n",
    "\n",
    "while (user_choice not in validInput): #while the user doesn't pick rock paper or scissors, this loop will keep asking for a correct input\n",
    "  user_choice = input(\"Invalid input, please enter either rock, paper, or scissors: \")\n",
    "\n",
    "random_choice = random.choice(validInput) \n",
    "output_string = \"\"\n",
    "\n",
    "if (user_choice == random_choice):\n",
    "  output_string = \"this is a tie!\" \n",
    "elif user_choice == \"rock\":\n",
    "  if random_choice == \"paper\":\n",
    "    output_string = \"+1 for Computer!\"\n",
    "  else: \n",
    "    output_string = \"+1 for You!\"\n",
    "elif user_choice == \"paper\":\n",
    "  if random_choice == \"rock\":\n",
    "    output_string = \"+1 for You!\"\n",
    "  else: \n",
    "    output_string = \"+1 for Computer!\"\n",
    "else: \n",
    "  if random_choice == \"rock\":\n",
    "    output_string = \"+1 for Computer!\"\n",
    "  else: \n",
    "    output_string = \"+1 for You!\"\n",
    "\n",
    "print(\"You picked %s; Computer picked %s; %s\" % (user_choice, random_choice, output_string))\n",
    "\n"
   ]
  }
 ],
 "metadata": {
  "anaconda-cloud": {},
  "kernelspec": {
   "display_name": "Python [conda root]",
   "language": "python",
   "name": "conda-root-py"
  },
  "language_info": {
   "codemirror_mode": {
    "name": "ipython",
    "version": 3
   },
   "file_extension": ".py",
   "mimetype": "text/x-python",
   "name": "python",
   "nbconvert_exporter": "python",
   "pygments_lexer": "ipython3",
   "version": "3.5.2"
  }
 },
 "nbformat": 4,
 "nbformat_minor": 2
}
