{
 "cells": [
  {
   "cell_type": "markdown",
   "metadata": {},
   "source": [
    "# To Dos\n",
    "\n",
    "## 1. 2946 fossils\n",
    "\n",
    "## 2. Species: 2107 Genus: 614\n",
    "\n",
    "`eeb177-student@eeb177-VirtualBox:~/Desktop/eeb-177/lab-work/exercise-9$ grep -o \"species\" canid_occ.csv | wc -l`\n",
    "\n",
    "`eeb177-student@eeb177-VirtualBox:~/Desktop/eeb-177/lab-work/exercise-9$ grep -o \"genus\" canid_occ.csv | wc -l` \n",
    "\n",
    "\n",
    "## 3. Unique accepted names: 2406\n",
    "\n",
    "`eeb177-student@eeb177-VirtualBox:~/Desktop/eeb-177/lab-work/exercise-9$ cut -d \",\" -f6 canid_occ.csv | uniq -c | wc -l`\n",
    "\n",
    "\n",
    "\n",
    "\n",
    "\n",
    "## 1. To change the sampling frequency, we use -s followed by the frequency\n",
    "\n",
    "## 2. -n allows one to adjust the mcmc generations\n",
    "\n",
    "\n",
    "\n",
    "\n",
    "\n",
    "## PyRate\n",
    "\n",
    "-The sum.txt file is a text file that provides the complete list of settings used in the analysis\n",
    "\n",
    "\n",
    "-The mcmc.log file is a tab-separated table with the MCMC samples of the posterior, prior, likelihoods of the preservation process and of the birth-death (indicated by PP_lik and BD_lik, respectively), the preservation rate (q_rate), the shape parameter of its gamma-distributed heterogeneity (alpha), the number of sampled rate shifts (k_birth, k_death), the time of origin of the oldest lineage (root_age), the total branch length (tot_length), and the times of speciation and extinction of all taxa in the data set (\\_TS* and \\_TE, respectively). When using the TPP model of preservation, the preservation rates between shifts are indicated as *q_0, q_1, ... q_n (from older to younger).\n",
    "\n",
    "-The marginal_rates.log file is a tab-separated table with the posterior samples of the marginal rates of speciation, extinction, and net diversification, calculated within 1 time unit (typically Myr). "
   ]
  }
 ],
 "metadata": {
  "anaconda-cloud": {},
  "kernelspec": {
   "display_name": "Python [default]",
   "language": "python",
   "name": "python3"
  },
  "language_info": {
   "codemirror_mode": {
    "name": "ipython",
    "version": 3
   },
   "file_extension": ".py",
   "mimetype": "text/x-python",
   "name": "python",
   "nbconvert_exporter": "python",
   "pygments_lexer": "ipython3",
   "version": "3.5.2"
  }
 },
 "nbformat": 4,
 "nbformat_minor": 2
}
