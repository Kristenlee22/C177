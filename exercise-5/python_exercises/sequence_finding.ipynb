{
 "cells": [
  {
   "cell_type": "code",
   "execution_count": 11,
   "metadata": {
    "collapsed": false
   },
   "outputs": [],
   "source": [
    "from itertools import groupby\n",
    "import csv\n",
    "import re\n",
    "\n",
    "def analyzing_fasta():\n",
    "    #output.csv is the output file I am writing to\n",
    "    with open('output.csv', 'w') as csvFile:\n",
    "        csvOutput = csv.writer(csvFile, lineterminator = '\\n')\n",
    "        #the header of the output file\n",
    "        head = [[\"contig_name\", \"num_AATG\"]]\n",
    "        csvOutput.writerows(head)\n",
    "        #opens the fasta file\n",
    "        openFasta = open(\"Marra2014_data.fasta\")\n",
    "        #groups the data of fasta file\n",
    "        groupData = (x[1] for x in groupby(openFasta, lambda line: line[0] == \">\"))  #from searching the internet, I found lambda, something we haven't covered\n",
    "        for header in groupData:\n",
    "            header = header.__next__()[1:].strip()\n",
    "            #seq is sequence of DNA\n",
    "            seq = \"\".join(s.strip() for s in groupData.__next__())\n",
    "            #relevantInfo is the header for each DNA sequence\n",
    "            relevantInfo = header.split()\n",
    "            aatg_num = len(re.findall(\"AATG\", seq))\n",
    "\n",
    "            #relevantInfo[0] is contig name\n",
    "            #aatg_num[0] is the number argument from header\n",
    "            output = [[relevantInfo[0], aatg_num]]\n",
    "            csvOutput.writerows(output)\n",
    "\n",
    "analyzing_fasta()"
   ]
  }
 ],
 "metadata": {
  "anaconda-cloud": {},
  "kernelspec": {
   "display_name": "Python [default]",
   "language": "python",
   "name": "python3"
  },
  "language_info": {
   "codemirror_mode": {
    "name": "ipython",
    "version": 3
   },
   "file_extension": ".py",
   "mimetype": "text/x-python",
   "name": "python",
   "nbconvert_exporter": "python",
   "pygments_lexer": "ipython3",
   "version": "3.5.2"
  }
 },
 "nbformat": 4,
 "nbformat_minor": 2
}
